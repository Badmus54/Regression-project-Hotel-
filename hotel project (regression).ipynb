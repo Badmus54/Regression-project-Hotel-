{
 "cells": [
  {
   "cell_type": "markdown",
   "id": "d76c56ee",
   "metadata": {},
   "source": [
    "                   INTRODUCTION"
   ]
  },
  {
   "cell_type": "markdown",
   "id": "d3f345ce",
   "metadata": {},
   "source": [
    "My name is BADMUS HABEEB MUSTAPHA i am a data scientist and a biologist. The hospitality industry in Germany is dynamic and growing. in 2018, the industry witnessed an addition of more than 16,000 rooms and 200 hotels with the increasing number of tourist arrivals, the hospitality industry is projected to grow further in the future. I can confidently say that with my analytical skills, I can manipulate data using tools like Excel, SQL, Power BI, Python and R to gain insightful decisions. With the task  of completing the Data Analytics course at SeedBuilders Academy, the task  is to use the datasets made available to analyze,make prediction and  to visualize the data. With these, I will be introducing my \n",
    "Germany hotel Project at SeedBuilders."
   ]
  },
  {
   "cell_type": "code",
   "execution_count": null,
   "id": "21aac8a4",
   "metadata": {},
   "outputs": [],
   "source": [
    "#import packages\n",
    "\n",
    "import numpy as np # linear algebra\n",
    "import pandas as pd # data processing, CSV file I/O (e.g. pd.read_csv)\n",
    "import matplotlib.pyplot as plt\n",
    "import seaborn as sns\n",
    "\n",
    "from scipy import stats\n",
    "import statsmodels.api as sm\n",
    "from statsmodels.formula.api import "
   ]
  },
  {
   "cell_type": "code",
   "execution_count": 2,
   "id": "03801e49",
   "metadata": {},
   "outputs": [
    {
     "data": {
      "text/html": [
       "<div>\n",
       "<style scoped>\n",
       "    .dataframe tbody tr th:only-of-type {\n",
       "        vertical-align: middle;\n",
       "    }\n",
       "\n",
       "    .dataframe tbody tr th {\n",
       "        vertical-align: top;\n",
       "    }\n",
       "\n",
       "    .dataframe thead th {\n",
       "        text-align: right;\n",
       "    }\n",
       "</style>\n",
       "<table border=\"1\" class=\"dataframe\">\n",
       "  <thead>\n",
       "    <tr style=\"text-align: right;\">\n",
       "      <th></th>\n",
       "      <th>Profit</th>\n",
       "      <th>Price in Millions</th>\n",
       "      <th>Square Meter</th>\n",
       "      <th>City</th>\n",
       "    </tr>\n",
       "  </thead>\n",
       "  <tbody>\n",
       "    <tr>\n",
       "      <th>0</th>\n",
       "      <td>119000.0</td>\n",
       "      <td>21.88</td>\n",
       "      <td>3938.0</td>\n",
       "      <td>Berlin</td>\n",
       "    </tr>\n",
       "    <tr>\n",
       "      <th>1</th>\n",
       "      <td>250000.0</td>\n",
       "      <td>27.95</td>\n",
       "      <td>3986.0</td>\n",
       "      <td>Munich</td>\n",
       "    </tr>\n",
       "    <tr>\n",
       "      <th>2</th>\n",
       "      <td>250000.0</td>\n",
       "      <td>16.09</td>\n",
       "      <td>2574.0</td>\n",
       "      <td>Cologne</td>\n",
       "    </tr>\n",
       "    <tr>\n",
       "      <th>3</th>\n",
       "      <td>145000.0</td>\n",
       "      <td>27.58</td>\n",
       "      <td>4155.0</td>\n",
       "      <td>Munich</td>\n",
       "    </tr>\n",
       "    <tr>\n",
       "      <th>4</th>\n",
       "      <td>110000.0</td>\n",
       "      <td>23.76</td>\n",
       "      <td>3795.0</td>\n",
       "      <td>Berlin</td>\n",
       "    </tr>\n",
       "  </tbody>\n",
       "</table>\n",
       "</div>"
      ],
      "text/plain": [
       "     Profit  Price in Millions  Square Meter     City\n",
       "0  119000.0              21.88        3938.0   Berlin\n",
       "1  250000.0              27.95        3986.0   Munich\n",
       "2  250000.0              16.09        2574.0  Cologne\n",
       "3  145000.0              27.58        4155.0   Munich\n",
       "4  110000.0              23.76        3795.0   Berlin"
      ]
     },
     "execution_count": 2,
     "metadata": {},
     "output_type": "execute_result"
    }
   ],
   "source": [
    "df=pd.read_csv('C:/Users/Badmus/Downloads/hotels.csv')\n",
    "df.head()"
   ]
  },
  {
   "cell_type": "markdown",
   "id": "80274f52",
   "metadata": {},
   "source": [
    "# data description\n",
    "\n",
    "* Profit - (How much money does this hotel make in a year)\n",
    "* Price in Millions - price of hotel (€)\n",
    "* Square Meter (Hotel Area)\n",
    "* City - city hotel is located in"
   ]
  },
  {
   "cell_type": "code",
   "execution_count": 3,
   "id": "da391212",
   "metadata": {},
   "outputs": [
    {
     "data": {
      "text/plain": [
       "<bound method DataFrame.info of        Profit  Price in Millions  Square Meter     City\n",
       "0    119000.0              21.88        3938.0   Berlin\n",
       "1    250000.0              27.95        3986.0   Munich\n",
       "2    250000.0              16.09        2574.0  Cologne\n",
       "3    145000.0              27.58        4155.0   Munich\n",
       "4    110000.0              23.76        3795.0   Berlin\n",
       "..        ...                ...           ...      ...\n",
       "145   45000.0              10.50        1775.0  Cologne\n",
       "146  250000.0              23.80        4058.0  Cologne\n",
       "147   32000.0              12.86        1668.0   Berlin\n",
       "148   35000.0              15.80        2281.0   Berlin\n",
       "149   90000.0              17.09        2297.0   Berlin\n",
       "\n",
       "[150 rows x 4 columns]>"
      ]
     },
     "execution_count": 3,
     "metadata": {},
     "output_type": "execute_result"
    }
   ],
   "source": [
    "df.info"
   ]
  },
  {
   "cell_type": "markdown",
   "id": "a0a9f4d8",
   "metadata": {},
   "source": [
    "EDA"
   ]
  },
  {
   "cell_type": "code",
   "execution_count": 4,
   "id": "b17e5930",
   "metadata": {},
   "outputs": [
    {
     "data": {
      "image/png": "[encoded data removed]",
      "text/plain": [
       "<Figure size 432x288 with 1 Axes>"
      ]
     },
     "metadata": {},
     "output_type": "display_data"
    }
   ],
   "source": [
    "plt.pie(df.City.value_counts().values, labels=df.City.value_counts().index)\n",
    "plt.title('Hotel Count by City')\n",
    "plt.show()"
   ]
  },
  {
   "cell_type": "markdown",
   "id": "0833756d",
   "metadata": {},
   "source": [
    "The city of Cologne has more hotels than others in Germany"
   ]
  },
  {
   "cell_type": "code",
   "execution_count": 5,
   "id": "35a31254",
   "metadata": {},
   "outputs": [
    {
     "data": {
      "text/html": [
       "<div>\n",
       "<style scoped>\n",
       "    .dataframe tbody tr th:only-of-type {\n",
       "        vertical-align: middle;\n",
       "    }\n",
       "\n",
       "    .dataframe tbody tr th {\n",
       "        vertical-align: top;\n",
       "    }\n",
       "\n",
       "    .dataframe thead th {\n",
       "        text-align: right;\n",
       "    }\n",
       "</style>\n",
       "<table border=\"1\" class=\"dataframe\">\n",
       "  <thead>\n",
       "    <tr style=\"text-align: right;\">\n",
       "      <th></th>\n",
       "      <th>count</th>\n",
       "      <th>mean</th>\n",
       "      <th>std</th>\n",
       "      <th>min</th>\n",
       "      <th>25%</th>\n",
       "      <th>50%</th>\n",
       "      <th>75%</th>\n",
       "      <th>max</th>\n",
       "    </tr>\n",
       "  </thead>\n",
       "  <tbody>\n",
       "    <tr>\n",
       "      <th>Profit</th>\n",
       "      <td>150.0</td>\n",
       "      <td>106126.666667</td>\n",
       "      <td>76413.507421</td>\n",
       "      <td>2000.00</td>\n",
       "      <td>45500.00</td>\n",
       "      <td>88500.000</td>\n",
       "      <td>137750.00</td>\n",
       "      <td>250000.00</td>\n",
       "    </tr>\n",
       "    <tr>\n",
       "      <th>Price in Millions</th>\n",
       "      <td>150.0</td>\n",
       "      <td>17.101933</td>\n",
       "      <td>6.531691</td>\n",
       "      <td>4.16</td>\n",
       "      <td>12.89</td>\n",
       "      <td>17.085</td>\n",
       "      <td>21.76</td>\n",
       "      <td>35.35</td>\n",
       "    </tr>\n",
       "    <tr>\n",
       "      <th>Square Meter</th>\n",
       "      <td>150.0</td>\n",
       "      <td>2594.680000</td>\n",
       "      <td>1434.491133</td>\n",
       "      <td>82.00</td>\n",
       "      <td>1499.00</td>\n",
       "      <td>2578.500</td>\n",
       "      <td>3628.00</td>\n",
       "      <td>5741.00</td>\n",
       "    </tr>\n",
       "  </tbody>\n",
       "</table>\n",
       "</div>"
      ],
      "text/plain": [
       "                   count           mean           std      min       25%  \\\n",
       "Profit             150.0  106126.666667  76413.507421  2000.00  45500.00   \n",
       "Price in Millions  150.0      17.101933      6.531691     4.16     12.89   \n",
       "Square Meter       150.0    2594.680000   1434.491133    82.00   1499.00   \n",
       "\n",
       "                         50%        75%        max  \n",
       "Profit             88500.000  137750.00  250000.00  \n",
       "Price in Millions     17.085      21.76      35.35  \n",
       "Square Meter        2578.500    3628.00    5741.00  "
      ]
     },
     "execution_count": 5,
     "metadata": {},
     "output_type": "execute_result"
    }
   ],
   "source": [
    "df[['Profit', 'Price in Millions', 'Square Meter']].describe().T"
   ]
  },
  {
   "cell_type": "markdown",
   "id": "2a2d7173",
   "metadata": {},
   "source": [
    "The max number of price for the hotels is 250000, and min is 2000\n",
    "and they have a large square meter with the maximum as 5741 and minimum of 82"
   ]
  },
  {
   "cell_type": "code",
   "execution_count": 6,
   "id": "9f03170f",
   "metadata": {},
   "outputs": [
    {
     "data": {
      "image/png": "[encoded data removed]",
      "text/plain": [
       "<Figure size 1008x216 with 3 Axes>"
      ]
     },
     "metadata": {
      "needs_background": "light"
     },
     "output_type": "display_data"
    }
   ],
   "source": [
    "df[['Profit', 'Price in Millions', 'Square Meter']].hist(figsize=(14,3), layout=(1,3))\n",
    "plt.show()"
   ]
  },
  {
   "cell_type": "code",
   "execution_count": 7,
   "id": "57e8fa23",
   "metadata": {},
   "outputs": [
    {
     "data": {
      "text/html": [
       "<div>\n",
       "<style scoped>\n",
       "    .dataframe tbody tr th:only-of-type {\n",
       "        vertical-align: middle;\n",
       "    }\n",
       "\n",
       "    .dataframe tbody tr th {\n",
       "        vertical-align: top;\n",
       "    }\n",
       "\n",
       "    .dataframe thead th {\n",
       "        text-align: right;\n",
       "    }\n",
       "</style>\n",
       "<table border=\"1\" class=\"dataframe\">\n",
       "  <thead>\n",
       "    <tr style=\"text-align: right;\">\n",
       "      <th></th>\n",
       "      <th>City</th>\n",
       "      <th>Berlin</th>\n",
       "      <th>Cologne</th>\n",
       "      <th>Munich</th>\n",
       "    </tr>\n",
       "  </thead>\n",
       "  <tbody>\n",
       "    <tr>\n",
       "      <th rowspan=\"8\" valign=\"top\">Profit</th>\n",
       "      <th>count</th>\n",
       "      <td>48.000000</td>\n",
       "      <td>61.000000</td>\n",
       "      <td>41.000000</td>\n",
       "    </tr>\n",
       "    <tr>\n",
       "      <th>mean</th>\n",
       "      <td>91000.000000</td>\n",
       "      <td>121475.409836</td>\n",
       "      <td>101000.000000</td>\n",
       "    </tr>\n",
       "    <tr>\n",
       "      <th>std</th>\n",
       "      <td>66476.999702</td>\n",
       "      <td>82418.769415</td>\n",
       "      <td>75549.652547</td>\n",
       "    </tr>\n",
       "    <tr>\n",
       "      <th>min</th>\n",
       "      <td>3000.000000</td>\n",
       "      <td>7000.000000</td>\n",
       "      <td>2000.000000</td>\n",
       "    </tr>\n",
       "    <tr>\n",
       "      <th>25%</th>\n",
       "      <td>34750.000000</td>\n",
       "      <td>57000.000000</td>\n",
       "      <td>45000.000000</td>\n",
       "    </tr>\n",
       "    <tr>\n",
       "      <th>50%</th>\n",
       "      <td>84500.000000</td>\n",
       "      <td>102000.000000</td>\n",
       "      <td>85000.000000</td>\n",
       "    </tr>\n",
       "    <tr>\n",
       "      <th>75%</th>\n",
       "      <td>124000.000000</td>\n",
       "      <td>163000.000000</td>\n",
       "      <td>128000.000000</td>\n",
       "    </tr>\n",
       "    <tr>\n",
       "      <th>max</th>\n",
       "      <td>250000.000000</td>\n",
       "      <td>250000.000000</td>\n",
       "      <td>250000.000000</td>\n",
       "    </tr>\n",
       "    <tr>\n",
       "      <th rowspan=\"8\" valign=\"top\">Price in Millions</th>\n",
       "      <th>count</th>\n",
       "      <td>48.000000</td>\n",
       "      <td>61.000000</td>\n",
       "      <td>41.000000</td>\n",
       "    </tr>\n",
       "    <tr>\n",
       "      <th>mean</th>\n",
       "      <td>17.119375</td>\n",
       "      <td>14.992623</td>\n",
       "      <td>20.219756</td>\n",
       "    </tr>\n",
       "    <tr>\n",
       "      <th>std</th>\n",
       "      <td>6.270263</td>\n",
       "      <td>6.152799</td>\n",
       "      <td>6.260068</td>\n",
       "    </tr>\n",
       "    <tr>\n",
       "      <th>min</th>\n",
       "      <td>6.620000</td>\n",
       "      <td>4.160000</td>\n",
       "      <td>7.840000</td>\n",
       "    </tr>\n",
       "    <tr>\n",
       "      <th>25%</th>\n",
       "      <td>12.950000</td>\n",
       "      <td>10.410000</td>\n",
       "      <td>16.150000</td>\n",
       "    </tr>\n",
       "    <tr>\n",
       "      <th>50%</th>\n",
       "      <td>17.175000</td>\n",
       "      <td>14.690000</td>\n",
       "      <td>19.370000</td>\n",
       "    </tr>\n",
       "    <tr>\n",
       "      <th>75%</th>\n",
       "      <td>21.892500</td>\n",
       "      <td>19.130000</td>\n",
       "      <td>23.440000</td>\n",
       "    </tr>\n",
       "    <tr>\n",
       "      <th>max</th>\n",
       "      <td>31.790000</td>\n",
       "      <td>28.490000</td>\n",
       "      <td>35.350000</td>\n",
       "    </tr>\n",
       "    <tr>\n",
       "      <th rowspan=\"8\" valign=\"top\">Square Meter</th>\n",
       "      <th>count</th>\n",
       "      <td>48.000000</td>\n",
       "      <td>61.000000</td>\n",
       "      <td>41.000000</td>\n",
       "    </tr>\n",
       "    <tr>\n",
       "      <th>mean</th>\n",
       "      <td>2589.958333</td>\n",
       "      <td>2655.180328</td>\n",
       "      <td>2510.195122</td>\n",
       "    </tr>\n",
       "    <tr>\n",
       "      <th>std</th>\n",
       "      <td>1451.689331</td>\n",
       "      <td>1419.726376</td>\n",
       "      <td>1467.180071</td>\n",
       "    </tr>\n",
       "    <tr>\n",
       "      <th>min</th>\n",
       "      <td>114.000000</td>\n",
       "      <td>179.000000</td>\n",
       "      <td>82.000000</td>\n",
       "    </tr>\n",
       "    <tr>\n",
       "      <th>25%</th>\n",
       "      <td>1649.500000</td>\n",
       "      <td>1581.000000</td>\n",
       "      <td>1492.000000</td>\n",
       "    </tr>\n",
       "    <tr>\n",
       "      <th>50%</th>\n",
       "      <td>2630.000000</td>\n",
       "      <td>2574.000000</td>\n",
       "      <td>2501.000000</td>\n",
       "    </tr>\n",
       "    <tr>\n",
       "      <th>75%</th>\n",
       "      <td>3729.750000</td>\n",
       "      <td>3558.000000</td>\n",
       "      <td>3306.000000</td>\n",
       "    </tr>\n",
       "    <tr>\n",
       "      <th>max</th>\n",
       "      <td>5607.000000</td>\n",
       "      <td>5741.000000</td>\n",
       "      <td>5702.000000</td>\n",
       "    </tr>\n",
       "  </tbody>\n",
       "</table>\n",
       "</div>"
      ],
      "text/plain": [
       "City                            Berlin        Cologne         Munich\n",
       "Profit            count      48.000000      61.000000      41.000000\n",
       "                  mean    91000.000000  121475.409836  101000.000000\n",
       "                  std     66476.999702   82418.769415   75549.652547\n",
       "                  min      3000.000000    7000.000000    2000.000000\n",
       "                  25%     34750.000000   57000.000000   45000.000000\n",
       "                  50%     84500.000000  102000.000000   85000.000000\n",
       "                  75%    124000.000000  163000.000000  128000.000000\n",
       "                  max    250000.000000  250000.000000  250000.000000\n",
       "Price in Millions count      48.000000      61.000000      41.000000\n",
       "                  mean       17.119375      14.992623      20.219756\n",
       "                  std         6.270263       6.152799       6.260068\n",
       "                  min         6.620000       4.160000       7.840000\n",
       "                  25%        12.950000      10.410000      16.150000\n",
       "                  50%        17.175000      14.690000      19.370000\n",
       "                  75%        21.892500      19.130000      23.440000\n",
       "                  max        31.790000      28.490000      35.350000\n",
       "Square Meter      count      48.000000      61.000000      41.000000\n",
       "                  mean     2589.958333    2655.180328    2510.195122\n",
       "                  std      1451.689331    1419.726376    1467.180071\n",
       "                  min       114.000000     179.000000      82.000000\n",
       "                  25%      1649.500000    1581.000000    1492.000000\n",
       "                  50%      2630.000000    2574.000000    2501.000000\n",
       "                  75%      3729.750000    3558.000000    3306.000000\n",
       "                  max      5607.000000    5741.000000    5702.000000"
      ]
     },
     "execution_count": 7,
     "metadata": {},
     "output_type": "execute_result"
    }
   ],
   "source": [
    "df.groupby(\"City\").describe().T"
   ]
  },
  {
   "cell_type": "code",
   "execution_count": 8,
   "id": "eefb59c3",
   "metadata": {},
   "outputs": [
    {
     "data": {
      "image/png": "[encoded data removed]",
      "text/plain": [
       "<Figure size 432x288 with 1 Axes>"
      ]
     },
     "metadata": {
      "needs_background": "light"
     },
     "output_type": "display_data"
    },
    {
     "data": {
      "image/png": "[encoded data removed]",
      "text/plain": [
       "<Figure size 432x288 with 1 Axes>"
      ]
     },
     "metadata": {
      "needs_background": "light"
     },
     "output_type": "display_data"
    }
   ],
   "source": [
    "plt.title(\"Profit against Price in Millions by City\")\n",
    "sns.scatterplot(data=df, x=\"Profit\", y=\"Price in Millions\", hue=\"City\")\n",
    "plt.show()\n",
    "\n",
    "plt.title(\"Square Meter vs. Price in Millions by City\")\n",
    "sns.scatterplot(data=df, x=\"Square Meter\", y=\"Price in Millions\", hue=\"City\")\n",
    "plt.show()"
   ]
  },
  {
   "cell_type": "markdown",
   "id": "7dd15fda",
   "metadata": {},
   "source": [
    "# Data modelling and one - hot - encoding "
   ]
  },
  {
   "cell_type": "code",
   "execution_count": 21,
   "id": "2a3d0bcf",
   "metadata": {},
   "outputs": [],
   "source": [
    "\n",
    "from sklearn.preprocessing import StandardScaler\n",
    "from sklearn.decomposition import PCA\n",
    "from sklearn.linear_model import LinearRegression, Lasso, Ridge\n",
    "from sklearn.tree import DecisionTreeRegressor\n",
    "from sklearn.pipeline import make_pipeline\n",
    "from sklearn.model_selection import train_test_split, cross_val_score, cross_validate\n",
    "from sklearn.metrics import mean_squared_error, mean_absolute_error, r2_score, mean_squared_log_error, silhouette_score\n",
    "from sklearn.cluster import KMeans\n",
    "from sklearn.model_selection import KFold"
   ]
  },
  {
   "cell_type": "code",
   "execution_count": 23,
   "id": "e1b74cf0",
   "metadata": {},
   "outputs": [],
   "source": [
    "df=pd.get_dummies(df)"
   ]
  },
  {
   "cell_type": "code",
   "execution_count": 12,
   "id": "72378464",
   "metadata": {},
   "outputs": [
    {
     "data": {
      "text/html": [
       "<div>\n",
       "<style scoped>\n",
       "    .dataframe tbody tr th:only-of-type {\n",
       "        vertical-align: middle;\n",
       "    }\n",
       "\n",
       "    .dataframe tbody tr th {\n",
       "        vertical-align: top;\n",
       "    }\n",
       "\n",
       "    .dataframe thead th {\n",
       "        text-align: right;\n",
       "    }\n",
       "</style>\n",
       "<table border=\"1\" class=\"dataframe\">\n",
       "  <thead>\n",
       "    <tr style=\"text-align: right;\">\n",
       "      <th></th>\n",
       "      <th>Profit</th>\n",
       "      <th>Price in Millions</th>\n",
       "      <th>Square Meter</th>\n",
       "      <th>City_Berlin</th>\n",
       "      <th>City_Cologne</th>\n",
       "      <th>City_Munich</th>\n",
       "    </tr>\n",
       "  </thead>\n",
       "  <tbody>\n",
       "    <tr>\n",
       "      <th>0</th>\n",
       "      <td>119000.0</td>\n",
       "      <td>21.88</td>\n",
       "      <td>3938.0</td>\n",
       "      <td>1</td>\n",
       "      <td>0</td>\n",
       "      <td>0</td>\n",
       "    </tr>\n",
       "    <tr>\n",
       "      <th>1</th>\n",
       "      <td>250000.0</td>\n",
       "      <td>27.95</td>\n",
       "      <td>3986.0</td>\n",
       "      <td>0</td>\n",
       "      <td>0</td>\n",
       "      <td>1</td>\n",
       "    </tr>\n",
       "    <tr>\n",
       "      <th>2</th>\n",
       "      <td>250000.0</td>\n",
       "      <td>16.09</td>\n",
       "      <td>2574.0</td>\n",
       "      <td>0</td>\n",
       "      <td>1</td>\n",
       "      <td>0</td>\n",
       "    </tr>\n",
       "    <tr>\n",
       "      <th>3</th>\n",
       "      <td>145000.0</td>\n",
       "      <td>27.58</td>\n",
       "      <td>4155.0</td>\n",
       "      <td>0</td>\n",
       "      <td>0</td>\n",
       "      <td>1</td>\n",
       "    </tr>\n",
       "    <tr>\n",
       "      <th>4</th>\n",
       "      <td>110000.0</td>\n",
       "      <td>23.76</td>\n",
       "      <td>3795.0</td>\n",
       "      <td>1</td>\n",
       "      <td>0</td>\n",
       "      <td>0</td>\n",
       "    </tr>\n",
       "  </tbody>\n",
       "</table>\n",
       "</div>"
      ],
      "text/plain": [
       "     Profit  Price in Millions  Square Meter  City_Berlin  City_Cologne  \\\n",
       "0  119000.0              21.88        3938.0            1             0   \n",
       "1  250000.0              27.95        3986.0            0             0   \n",
       "2  250000.0              16.09        2574.0            0             1   \n",
       "3  145000.0              27.58        4155.0            0             0   \n",
       "4  110000.0              23.76        3795.0            1             0   \n",
       "\n",
       "   City_Munich  \n",
       "0            0  \n",
       "1            1  \n",
       "2            0  \n",
       "3            1  \n",
       "4            0  "
      ]
     },
     "execution_count": 12,
     "metadata": {},
     "output_type": "execute_result"
    }
   ],
   "source": [
    "df.head()"
   ]
  },
  {
   "cell_type": "code",
   "execution_count": 15,
   "id": "0f6402a8",
   "metadata": {},
   "outputs": [],
   "source": [
    "hotel_prices=df.copy()"
   ]
  },
  {
   "cell_type": "code",
   "execution_count": 16,
   "id": "ab6a6ede",
   "metadata": {},
   "outputs": [],
   "source": [
    "#independent variables\n",
    "X=hotel_prices.drop(columns=\"Price in Millions\")\n",
    "#sqrt transformation of profit\n",
    "#X.Profit.apply(lambda x: np.sqrt(x))\n",
    "\n",
    "#dependent variable\n",
    "y=hotel_prices[\"Price in Millions\"]"
   ]
  },
  {
   "cell_type": "code",
   "execution_count": 17,
   "id": "e973db81",
   "metadata": {},
   "outputs": [],
   "source": [
    "#split data into test and train data\n",
    "X_train, X_test, y_train, y_test=train_test_split(X, y, test_size=.2, random_state=1)"
   ]
  },
  {
   "cell_type": "code",
   "execution_count": 24,
   "id": "b3bc40d3",
   "metadata": {},
   "outputs": [],
   "source": [
    "#standardization\n",
    "scaler=StandardScaler().fit(X_train)\n",
    "#X_train=pd.DataFrame(scaler.transform(X_train), columns=X_train.columns)\n",
    "#X_test=pd.DataFrame(scaler.transform(X_test), columns=X_test.columns)\n",
    "X_train=scaler.transform(X_train)\n",
    "X_test=scaler.transform(X_test)"
   ]
  },
  {
   "cell_type": "markdown",
   "id": "cf5c36f4",
   "metadata": {},
   "source": [
    "# Linear Regression"
   ]
  },
  {
   "cell_type": "code",
   "execution_count": 25,
   "id": "85193bd6",
   "metadata": {},
   "outputs": [
    {
     "data": {
      "text/plain": [
       "LinearRegression()"
      ]
     },
     "execution_count": 25,
     "metadata": {},
     "output_type": "execute_result"
    }
   ],
   "source": [
    "linearmodel = LinearRegression()\n",
    "\n",
    "linearmodel.fit(X_train, y_train)"
   ]
  },
  {
   "cell_type": "code",
   "execution_count": 26,
   "id": "f24bb25d",
   "metadata": {},
   "outputs": [
    {
     "data": {
      "text/plain": [
       "array([18.78372567, 16.93548577, 29.06478807, 14.96469344,  4.25458252,\n",
       "       16.52590298, 14.61858031, 24.88406914, 15.64351857, 30.40937979,\n",
       "       12.7318217 , 22.46805255, 18.565161  , 24.88539981, 24.77867147,\n",
       "       18.32772514, 16.616019  ,  6.89926668, 14.62666968, 19.69025671,\n",
       "        6.66594888,  9.2031942 , 15.48745699, 13.7646141 , 15.74384867,\n",
       "       12.80789732, 13.11042242, 18.8863219 , 19.9323897 , 21.56123292])"
      ]
     },
     "execution_count": 26,
     "metadata": {},
     "output_type": "execute_result"
    }
   ],
   "source": [
    "linearmodel.predict(X_test)"
   ]
  },
  {
   "cell_type": "code",
   "execution_count": 27,
   "id": "9ad79def",
   "metadata": {},
   "outputs": [],
   "source": [
    "linearmodel_prediction = linearmodel.predict(X_test)"
   ]
  },
  {
   "cell_type": "code",
   "execution_count": 28,
   "id": "dba2db9e",
   "metadata": {},
   "outputs": [
    {
     "data": {
      "text/plain": [
       "14     0.536274\n",
       "98     0.734514\n",
       "75    -1.124788\n",
       "16    -0.804693\n",
       "131    0.545417\n",
       "56    -1.555903\n",
       "141    0.661420\n",
       "44    -0.104069\n",
       "29     1.576481\n",
       "120    1.380620\n",
       "94    -0.831822\n",
       "5      0.411947\n",
       "102   -0.475161\n",
       "51    -1.285400\n",
       "78     0.031329\n",
       "42    -0.207725\n",
       "92     0.513981\n",
       "66     0.050733\n",
       "31    -1.046670\n",
       "35    -0.320257\n",
       "90    -0.045949\n",
       "84    -1.223194\n",
       "77    -0.587457\n",
       "40     0.005386\n",
       "125   -0.303849\n",
       "99     1.172103\n",
       "33    -0.020422\n",
       "19    -0.246322\n",
       "73     0.337610\n",
       "146    2.238767\n",
       "Name: Price in Millions, dtype: float64"
      ]
     },
     "execution_count": 28,
     "metadata": {},
     "output_type": "execute_result"
    }
   ],
   "source": [
    "# checking error for each prediction\n",
    "y_test - linearmodel_prediction "
   ]
  },
  {
   "cell_type": "markdown",
   "id": "720804a4",
   "metadata": {},
   "source": [
    "The positive ones show that the prediction is higher than the actual values while the negative ones are below the actual values. Let's now measure this error by using the Root Mean Squared Error (RMSE)."
   ]
  },
  {
   "cell_type": "code",
   "execution_count": 30,
   "id": "eb9bfde8",
   "metadata": {},
   "outputs": [],
   "source": [
    "import sklearn.metrics as metrics\n",
    "\n",
    "MSE = metrics.mean_squared_error(y_test, linearmodel_prediction)"
   ]
  },
  {
   "cell_type": "code",
   "execution_count": 31,
   "id": "4bc2741d",
   "metadata": {},
   "outputs": [
    {
     "data": {
      "text/plain": [
       "0.7681059566941598"
      ]
     },
     "execution_count": 31,
     "metadata": {},
     "output_type": "execute_result"
    }
   ],
   "source": [
    "MSE"
   ]
  },
  {
   "cell_type": "code",
   "execution_count": 32,
   "id": "60b411d6",
   "metadata": {},
   "outputs": [
    {
     "data": {
      "text/plain": [
       "0.876416542914475"
      ]
     },
     "execution_count": 32,
     "metadata": {},
     "output_type": "execute_result"
    }
   ],
   "source": [
    "np.sqrt(MSE)"
   ]
  },
  {
   "cell_type": "markdown",
   "id": "0645b194",
   "metadata": {},
   "source": [
    "The RSME of linear regression is 0.876"
   ]
  },
  {
   "cell_type": "markdown",
   "id": "8110104d",
   "metadata": {},
   "source": [
    "# Random Forest Regressor"
   ]
  },
  {
   "cell_type": "code",
   "execution_count": 34,
   "id": "a7b4a083",
   "metadata": {},
   "outputs": [
    {
     "data": {
      "text/plain": [
       "RandomForestRegressor()"
      ]
     },
     "execution_count": 34,
     "metadata": {},
     "output_type": "execute_result"
    }
   ],
   "source": [
    "from sklearn.ensemble import RandomForestRegressor\n",
    "\n",
    "randomforestmodel = RandomForestRegressor()\n",
    "\n",
    "randomforestmodel.fit(X_train, y_train)"
   ]
  },
  {
   "cell_type": "code",
   "execution_count": 35,
   "id": "3f51c865",
   "metadata": {},
   "outputs": [],
   "source": [
    "randomforestmodel_prediction = randomforestmodel.predict(X_test)"
   ]
  },
  {
   "cell_type": "code",
   "execution_count": 36,
   "id": "49d66830",
   "metadata": {},
   "outputs": [],
   "source": [
    "MSE = metrics.mean_squared_error(y_test, randomforestmodel_prediction)"
   ]
  },
  {
   "cell_type": "code",
   "execution_count": 37,
   "id": "f960d35a",
   "metadata": {},
   "outputs": [
    {
     "data": {
      "text/plain": [
       "1.8995911126666796"
      ]
     },
     "execution_count": 37,
     "metadata": {},
     "output_type": "execute_result"
    }
   ],
   "source": [
    "MSE"
   ]
  },
  {
   "cell_type": "code",
   "execution_count": 38,
   "id": "d8faec31",
   "metadata": {},
   "outputs": [
    {
     "data": {
      "text/plain": [
       "1.3782565482038094"
      ]
     },
     "execution_count": 38,
     "metadata": {},
     "output_type": "execute_result"
    }
   ],
   "source": [
    "np.sqrt(MSE)"
   ]
  },
  {
   "cell_type": "markdown",
   "id": "dd9922fd",
   "metadata": {},
   "source": [
    "# Support Vector Machine"
   ]
  },
  {
   "cell_type": "code",
   "execution_count": 40,
   "id": "cf632e38",
   "metadata": {},
   "outputs": [
    {
     "data": {
      "text/plain": [
       "SVR()"
      ]
     },
     "execution_count": 40,
     "metadata": {},
     "output_type": "execute_result"
    }
   ],
   "source": [
    "from sklearn.svm import SVR\n",
    "\n",
    "SVMmodel = SVR()\n",
    "\n",
    "SVMmodel.fit(X_train, y_train)"
   ]
  },
  {
   "cell_type": "code",
   "execution_count": 41,
   "id": "6387f746",
   "metadata": {},
   "outputs": [],
   "source": [
    "SVMmodel_prediction = SVMmodel.predict(X_test)"
   ]
  },
  {
   "cell_type": "code",
   "execution_count": 42,
   "id": "f6cf4aa8",
   "metadata": {},
   "outputs": [],
   "source": [
    "MSE = metrics.mean_squared_error(y_test, SVMmodel_prediction)"
   ]
  },
  {
   "cell_type": "code",
   "execution_count": 43,
   "id": "3c517603",
   "metadata": {},
   "outputs": [
    {
     "data": {
      "text/plain": [
       "6.3192469209231055"
      ]
     },
     "execution_count": 43,
     "metadata": {},
     "output_type": "execute_result"
    }
   ],
   "source": [
    "MSE"
   ]
  },
  {
   "cell_type": "code",
   "execution_count": 44,
   "id": "a79aa66b",
   "metadata": {},
   "outputs": [
    {
     "data": {
      "text/plain": [
       "2.513811234146889"
      ]
     },
     "execution_count": 44,
     "metadata": {},
     "output_type": "execute_result"
    }
   ],
   "source": [
    "np.sqrt(MSE)"
   ]
  },
  {
   "cell_type": "markdown",
   "id": "cf3e7a56",
   "metadata": {},
   "source": [
    "# Decision Tree"
   ]
  },
  {
   "cell_type": "code",
   "execution_count": 45,
   "id": "97970240",
   "metadata": {},
   "outputs": [
    {
     "data": {
      "text/plain": [
       "DecisionTreeRegressor()"
      ]
     },
     "execution_count": 45,
     "metadata": {},
     "output_type": "execute_result"
    }
   ],
   "source": [
    "from sklearn.tree import DecisionTreeRegressor\n",
    "\n",
    "decisiontree =  DecisionTreeRegressor()\n",
    "\n",
    "decisiontree.fit(X_train, y_train)"
   ]
  },
  {
   "cell_type": "code",
   "execution_count": 46,
   "id": "3b8ea927",
   "metadata": {},
   "outputs": [],
   "source": [
    "decisiontree_prediction = decisiontree.predict(X_test)"
   ]
  },
  {
   "cell_type": "code",
   "execution_count": 47,
   "id": "267b178b",
   "metadata": {},
   "outputs": [],
   "source": [
    "MSE = metrics.mean_squared_error(y_test, decisiontree_prediction)"
   ]
  },
  {
   "cell_type": "code",
   "execution_count": 48,
   "id": "3018f1e5",
   "metadata": {},
   "outputs": [
    {
     "data": {
      "text/plain": [
       "4.279946666666667"
      ]
     },
     "execution_count": 48,
     "metadata": {},
     "output_type": "execute_result"
    }
   ],
   "source": [
    "MSE"
   ]
  },
  {
   "cell_type": "code",
   "execution_count": 49,
   "id": "e6f40676",
   "metadata": {},
   "outputs": [
    {
     "data": {
      "text/plain": [
       "2.0688031966977105"
      ]
     },
     "execution_count": 49,
     "metadata": {},
     "output_type": "execute_result"
    }
   ],
   "source": [
    "np.sqrt(MSE)"
   ]
  },
  {
   "cell_type": "markdown",
   "id": "71709d12",
   "metadata": {},
   "source": [
    "# KNeighbors Regressor"
   ]
  },
  {
   "cell_type": "code",
   "execution_count": 50,
   "id": "49560b31",
   "metadata": {},
   "outputs": [
    {
     "data": {
      "text/plain": [
       "KNeighborsRegressor()"
      ]
     },
     "execution_count": 50,
     "metadata": {},
     "output_type": "execute_result"
    }
   ],
   "source": [
    "from sklearn.neighbors import KNeighborsRegressor\n",
    "\n",
    "kneighborsregressor =  KNeighborsRegressor()\n",
    "\n",
    "kneighborsregressor.fit(X_train, y_train)"
   ]
  },
  {
   "cell_type": "code",
   "execution_count": 51,
   "id": "91c7bfed",
   "metadata": {},
   "outputs": [
    {
     "data": {
      "text/plain": [
       "array([22.212, 17.554, 28.84 , 14.06 ,  5.992, 18.05 , 15.044, 23.46 ,\n",
       "       16.254, 24.982, 14.442, 24.426, 18.3  , 23.392, 24.186, 18.194,\n",
       "       16.496,  8.846, 14.134, 21.206,  8.846,  8.81 , 15.936, 13.414,\n",
       "       15.044, 12.068, 16.074, 20.874, 18.942, 21.834])"
      ]
     },
     "execution_count": 51,
     "metadata": {},
     "output_type": "execute_result"
    }
   ],
   "source": [
    "kneighborsregressor.predict(X_test)"
   ]
  },
  {
   "cell_type": "code",
   "execution_count": 52,
   "id": "0f109ef9",
   "metadata": {},
   "outputs": [],
   "source": [
    "kneighborsregressor_prediction = kneighborsregressor.predict(X_test)"
   ]
  },
  {
   "cell_type": "code",
   "execution_count": 53,
   "id": "e22aeb8b",
   "metadata": {},
   "outputs": [],
   "source": [
    "MSE = metrics.mean_squared_error(y_test, kneighborsregressor_prediction)"
   ]
  },
  {
   "cell_type": "code",
   "execution_count": 54,
   "id": "da94e75c",
   "metadata": {},
   "outputs": [
    {
     "data": {
      "text/plain": [
       "3.879116666666668"
      ]
     },
     "execution_count": 54,
     "metadata": {},
     "output_type": "execute_result"
    }
   ],
   "source": [
    "MSE"
   ]
  },
  {
   "cell_type": "code",
   "execution_count": 55,
   "id": "d86d7645",
   "metadata": {},
   "outputs": [
    {
     "data": {
      "text/plain": [
       "1.9695473253178426"
      ]
     },
     "execution_count": 55,
     "metadata": {},
     "output_type": "execute_result"
    }
   ],
   "source": [
    "np.sqrt(MSE)"
   ]
  },
  {
   "cell_type": "markdown",
   "id": "f8443bf4",
   "metadata": {},
   "source": [
    "# Ridge"
   ]
  },
  {
   "cell_type": "code",
   "execution_count": 56,
   "id": "03303e27",
   "metadata": {},
   "outputs": [
    {
     "data": {
      "text/plain": [
       "Ridge()"
      ]
     },
     "execution_count": 56,
     "metadata": {},
     "output_type": "execute_result"
    }
   ],
   "source": [
    "from sklearn.linear_model import Ridge\n",
    "ridge =  Ridge()\n",
    "\n",
    "ridge.fit(X_train, y_train)"
   ]
  },
  {
   "cell_type": "code",
   "execution_count": 57,
   "id": "6e54c217",
   "metadata": {},
   "outputs": [
    {
     "data": {
      "text/plain": [
       "array([18.8835724 , 16.94392813, 29.03487613, 14.96406739,  4.33193159,\n",
       "       16.54262257, 14.70403492, 24.79219136, 15.645973  , 30.34578616,\n",
       "       12.80433853, 22.51888467, 18.53854326, 24.78655617, 24.70668607,\n",
       "       18.30665328, 16.58072311,  6.97777249, 14.62151008, 19.67557876,\n",
       "        6.74677087,  9.26205017, 15.49528347, 13.77532813, 15.82641513,\n",
       "       12.83382898, 13.19476294, 18.94213193, 19.88352248, 21.57037739])"
      ]
     },
     "execution_count": 57,
     "metadata": {},
     "output_type": "execute_result"
    }
   ],
   "source": [
    "ridge.predict(X_test)"
   ]
  },
  {
   "cell_type": "code",
   "execution_count": 58,
   "id": "b8fe5869",
   "metadata": {},
   "outputs": [],
   "source": [
    "ridge_prediction = ridge.predict(X_test)"
   ]
  },
  {
   "cell_type": "code",
   "execution_count": 59,
   "id": "d0b4ca97",
   "metadata": {},
   "outputs": [],
   "source": [
    "MSE = metrics.mean_squared_error(y_test,ridge_prediction)"
   ]
  },
  {
   "cell_type": "code",
   "execution_count": 60,
   "id": "3726f89a",
   "metadata": {},
   "outputs": [
    {
     "data": {
      "text/plain": [
       "0.7644595468756187"
      ]
     },
     "execution_count": 60,
     "metadata": {},
     "output_type": "execute_result"
    }
   ],
   "source": [
    "MSE"
   ]
  },
  {
   "cell_type": "code",
   "execution_count": 61,
   "id": "4e1a8c11",
   "metadata": {},
   "outputs": [
    {
     "data": {
      "text/plain": [
       "0.8743337731528038"
      ]
     },
     "execution_count": 61,
     "metadata": {},
     "output_type": "execute_result"
    }
   ],
   "source": [
    "np.sqrt(MSE)"
   ]
  },
  {
   "cell_type": "markdown",
   "id": "50420539",
   "metadata": {},
   "source": [
    "# Gradient Boosting Regressor"
   ]
  },
  {
   "cell_type": "code",
   "execution_count": 62,
   "id": "95d4eec6",
   "metadata": {},
   "outputs": [
    {
     "data": {
      "text/plain": [
       "GradientBoostingRegressor()"
      ]
     },
     "execution_count": 62,
     "metadata": {},
     "output_type": "execute_result"
    }
   ],
   "source": [
    "from sklearn.ensemble import GradientBoostingRegressor\n",
    "gradient = GradientBoostingRegressor()\n",
    "gradient.fit(X_train, y_train)"
   ]
  },
  {
   "cell_type": "code",
   "execution_count": 63,
   "id": "091d710a",
   "metadata": {},
   "outputs": [
    {
     "data": {
      "text/plain": [
       "array([17.44001121, 18.53748721, 28.40019301, 16.74779659,  6.60898232,\n",
       "       16.52311035, 14.84818319, 25.24337188, 16.47061844, 30.42637951,\n",
       "       13.79895066, 22.20876998, 17.36198295, 24.5693553 , 24.24044301,\n",
       "       17.93551534, 18.13920993,  8.01951214, 17.08838085, 19.85468005,\n",
       "        7.82213173,  8.89278253, 16.04898423, 14.16286099, 16.18187697,\n",
       "       12.05458519, 11.7374413 , 17.89497942, 20.48522607, 23.63615677])"
      ]
     },
     "execution_count": 63,
     "metadata": {},
     "output_type": "execute_result"
    }
   ],
   "source": [
    "gradient.predict(X_test)"
   ]
  },
  {
   "cell_type": "code",
   "execution_count": 64,
   "id": "b3c6ee80",
   "metadata": {},
   "outputs": [],
   "source": [
    "gradient_prediction = gradient.predict(X_test)"
   ]
  },
  {
   "cell_type": "code",
   "execution_count": 65,
   "id": "2d44dd2c",
   "metadata": {},
   "outputs": [],
   "source": [
    "MSE = metrics.mean_squared_error(y_test,gradient_prediction)"
   ]
  },
  {
   "cell_type": "code",
   "execution_count": 66,
   "id": "2dbbbeed",
   "metadata": {},
   "outputs": [
    {
     "data": {
      "text/plain": [
       "1.6920281380871203"
      ]
     },
     "execution_count": 66,
     "metadata": {},
     "output_type": "execute_result"
    }
   ],
   "source": [
    "MSE"
   ]
  },
  {
   "cell_type": "code",
   "execution_count": 68,
   "id": "a21ddea8",
   "metadata": {},
   "outputs": [
    {
     "data": {
      "text/plain": [
       "1.300779819218887"
      ]
     },
     "execution_count": 68,
     "metadata": {},
     "output_type": "execute_result"
    }
   ],
   "source": [
    "np.sqrt(MSE)"
   ]
  },
  {
   "cell_type": "code",
   "execution_count": null,
   "id": "8dbc2962",
   "metadata": {},
   "outputs": [],
   "source": []
  }
 ],
 "metadata": {
  "kernelspec": {
   "display_name": "Python 3 (ipykernel)",
   "language": "python",
   "name": "python3"
  },
  "language_info": {
   "codemirror_mode": {
    "name": "ipython",
    "version": 3
   },
   "file_extension": ".py",
   "mimetype": "text/x-python",
   "name": "python",
   "nbconvert_exporter": "python",
   "pygments_lexer": "ipython3",
   "version": "3.9.7"
  }
 },
 "nbformat": 4,
 "nbformat_minor": 5
}
